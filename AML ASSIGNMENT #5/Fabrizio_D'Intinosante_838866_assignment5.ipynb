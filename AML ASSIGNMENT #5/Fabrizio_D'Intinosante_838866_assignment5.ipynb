{
 "cells": [
  {
   "cell_type": "markdown",
   "metadata": {},
   "source": [
    "# Advanced Machine Learning"
   ]
  },
  {
   "cell_type": "markdown",
   "metadata": {},
   "source": [
    "## Assignment #5"
   ]
  },
  {
   "cell_type": "markdown",
   "metadata": {},
   "source": [
    "<a href=\"https://drive.google.com/open?id=1NtIpaYVv_112I4K7AmBg0qIdYQMuIhdS\">\n",
    "  <img src=\"https://colab.research.google.com/assets/colab-badge.svg\" alt=\"Open In Colab\" width=150 align='left'/>\n",
    "</a>"
   ]
  },
  {
   "cell_type": "markdown",
   "metadata": {},
   "source": [
    "### Packages"
   ]
  },
  {
   "cell_type": "code",
   "execution_count": 89,
   "metadata": {},
   "outputs": [],
   "source": [
    "# Magic trio\n",
    "import pandas as pd\n",
    "import matplotlib.pyplot as plt\n",
    "import numpy as np\n",
    "\n",
    "import seaborn as sns\n",
    "\n",
    "from sklearn.model_selection import train_test_split, GridSearchCV, RandomizedSearchCV, cross_val_score, StratifiedKFold\n",
    "from sklearn.neural_network import MLPClassifier\n",
    "from scipy.stats import uniform\n",
    "\n",
    "# For limit outputs\n",
    "def warn(*args, **kwargs):\n",
    "    pass\n",
    "\n",
    "import warnings\n",
    "warnings.warn = warn\n",
    "\n",
    "# Import SMAC-utilities\n",
    "from smac.tae.execute_func import ExecuteTAFuncDict\n",
    "from smac.scenario.scenario import Scenario\n",
    "from smac.facade.smac_hpo_facade import SMAC4HPO\n",
    "from smac.facade.smac_bo_facade import SMAC4BO\n",
    "from smac.facade.smac_ac_facade import SMAC4AC\n",
    "from smac.optimizer.acquisition import EI, LCB\n",
    "from smac.configspace import ConfigurationSpace, Configuration\n",
    "from ConfigSpace.hyperparameters import UniformFloatHyperparameter, UniformIntegerHyperparameter\n",
    "from smac.initial_design.latin_hypercube_design import LHDesign\n",
    "import pyDOE"
   ]
  },
  {
   "cell_type": "code",
   "execution_count": 2,
   "metadata": {},
   "outputs": [],
   "source": [
    "dt = pd.read_csv(\"fertility.csv\")"
   ]
  },
  {
   "cell_type": "code",
   "execution_count": 3,
   "metadata": {},
   "outputs": [
    {
     "data": {
      "text/html": [
       "<div>\n",
       "<style scoped>\n",
       "    .dataframe tbody tr th:only-of-type {\n",
       "        vertical-align: middle;\n",
       "    }\n",
       "\n",
       "    .dataframe tbody tr th {\n",
       "        vertical-align: top;\n",
       "    }\n",
       "\n",
       "    .dataframe thead th {\n",
       "        text-align: right;\n",
       "    }\n",
       "</style>\n",
       "<table border=\"1\" class=\"dataframe\">\n",
       "  <thead>\n",
       "    <tr style=\"text-align: right;\">\n",
       "      <th></th>\n",
       "      <th>V1</th>\n",
       "      <th>V2</th>\n",
       "      <th>V3</th>\n",
       "      <th>V4</th>\n",
       "      <th>V5</th>\n",
       "      <th>V6</th>\n",
       "      <th>V7</th>\n",
       "      <th>V8</th>\n",
       "      <th>V9</th>\n",
       "      <th>Class</th>\n",
       "    </tr>\n",
       "  </thead>\n",
       "  <tbody>\n",
       "    <tr>\n",
       "      <th>0</th>\n",
       "      <td>-0.33</td>\n",
       "      <td>0.69</td>\n",
       "      <td>0</td>\n",
       "      <td>1</td>\n",
       "      <td>1</td>\n",
       "      <td>0</td>\n",
       "      <td>0.8</td>\n",
       "      <td>0</td>\n",
       "      <td>0.88</td>\n",
       "      <td>1</td>\n",
       "    </tr>\n",
       "    <tr>\n",
       "      <th>1</th>\n",
       "      <td>-0.33</td>\n",
       "      <td>0.94</td>\n",
       "      <td>1</td>\n",
       "      <td>0</td>\n",
       "      <td>1</td>\n",
       "      <td>0</td>\n",
       "      <td>0.8</td>\n",
       "      <td>1</td>\n",
       "      <td>0.31</td>\n",
       "      <td>2</td>\n",
       "    </tr>\n",
       "    <tr>\n",
       "      <th>2</th>\n",
       "      <td>-0.33</td>\n",
       "      <td>0.50</td>\n",
       "      <td>1</td>\n",
       "      <td>0</td>\n",
       "      <td>0</td>\n",
       "      <td>0</td>\n",
       "      <td>1.0</td>\n",
       "      <td>-1</td>\n",
       "      <td>0.50</td>\n",
       "      <td>1</td>\n",
       "    </tr>\n",
       "    <tr>\n",
       "      <th>3</th>\n",
       "      <td>-0.33</td>\n",
       "      <td>0.75</td>\n",
       "      <td>0</td>\n",
       "      <td>1</td>\n",
       "      <td>1</td>\n",
       "      <td>0</td>\n",
       "      <td>1.0</td>\n",
       "      <td>-1</td>\n",
       "      <td>0.38</td>\n",
       "      <td>1</td>\n",
       "    </tr>\n",
       "    <tr>\n",
       "      <th>4</th>\n",
       "      <td>-0.33</td>\n",
       "      <td>0.67</td>\n",
       "      <td>1</td>\n",
       "      <td>1</td>\n",
       "      <td>0</td>\n",
       "      <td>0</td>\n",
       "      <td>0.8</td>\n",
       "      <td>-1</td>\n",
       "      <td>0.50</td>\n",
       "      <td>2</td>\n",
       "    </tr>\n",
       "  </tbody>\n",
       "</table>\n",
       "</div>"
      ],
      "text/plain": [
       "     V1    V2  V3  V4  V5  V6   V7  V8    V9  Class\n",
       "0 -0.33  0.69   0   1   1   0  0.8   0  0.88      1\n",
       "1 -0.33  0.94   1   0   1   0  0.8   1  0.31      2\n",
       "2 -0.33  0.50   1   0   0   0  1.0  -1  0.50      1\n",
       "3 -0.33  0.75   0   1   1   0  1.0  -1  0.38      1\n",
       "4 -0.33  0.67   1   1   0   0  0.8  -1  0.50      2"
      ]
     },
     "execution_count": 3,
     "metadata": {},
     "output_type": "execute_result"
    }
   ],
   "source": [
    "dt.head()"
   ]
  },
  {
   "cell_type": "code",
   "execution_count": 4,
   "metadata": {},
   "outputs": [
    {
     "data": {
      "text/plain": [
       "<matplotlib.axes._subplots.AxesSubplot at 0x7f7c4873a990>"
      ]
     },
     "execution_count": 4,
     "metadata": {},
     "output_type": "execute_result"
    },
    {
     "data": {
      "image/png": "[encoded data removed]",
      "text/plain": [
       "<Figure size 1080x360 with 1 Axes>"
      ]
     },
     "metadata": {
      "needs_background": "light"
     },
     "output_type": "display_data"
    }
   ],
   "source": [
    "plt.figure(figsize = (15,5))\n",
    "sns.countplot(dt.Class)"
   ]
  },
  {
   "cell_type": "markdown",
   "metadata": {},
   "source": [
    "### Preprocessing"
   ]
  },
  {
   "cell_type": "code",
   "execution_count": 5,
   "metadata": {},
   "outputs": [],
   "source": [
    "dt.Class = dt.Class.map(lambda x: 0 if x == 1 else 1)"
   ]
  },
  {
   "cell_type": "code",
   "execution_count": 6,
   "metadata": {},
   "outputs": [],
   "source": [
    "Y = np.array(dt.Class)\n",
    "X = np.array(dt.drop(\"Class\", axis = 1))"
   ]
  },
  {
   "cell_type": "markdown",
   "metadata": {},
   "source": [
    "### Step 1"
   ]
  },
  {
   "cell_type": "code",
   "execution_count": 7,
   "metadata": {},
   "outputs": [
    {
     "name": "stdout",
     "output_type": "stream",
     "text": [
      "Adding parameters to be optimized:\n"
     ]
    },
    {
     "data": {
      "text/plain": [
       "[learning_rate_init, Type: UniformFloat, Range: [0.01, 0.1], Default: 0.055,\n",
       " momentum, Type: UniformFloat, Range: [0.1, 0.9], Default: 0.9]"
      ]
     },
     "execution_count": 7,
     "metadata": {},
     "output_type": "execute_result"
    }
   ],
   "source": [
    "# Inizializzo configuration space\n",
    "cs = ConfigurationSpace()\n",
    "\n",
    "# Definisco distribuzione degli elementi che voglio ottimizzare\n",
    "l_rate = UniformFloatHyperparameter(\"learning_rate_init\", 0.01, 0.1)\n",
    "momentum = UniformFloatHyperparameter(\"momentum\", 0.1, 0.9, default_value = 0.9)\n",
    "\n",
    "print(\"Adding parameters to be optimized:\")\n",
    "cs.add_hyperparameters([l_rate, momentum])"
   ]
  },
  {
   "cell_type": "code",
   "execution_count": 8,
   "metadata": {},
   "outputs": [
    {
     "data": {
      "text/plain": [
       "[Configuration:\n",
       "   learning_rate_init, Value: 0.017979911186950207\n",
       "   momentum, Value: 0.11781733563117572, Configuration:\n",
       "   learning_rate_init, Value: 0.05815989732046531\n",
       "   momentum, Value: 0.34199984857215393, Configuration:\n",
       "   learning_rate_init, Value: 0.038410183432217394\n",
       "   momentum, Value: 0.5787248812176046, Configuration:\n",
       "   learning_rate_init, Value: 0.010100598391586078\n",
       "   momentum, Value: 0.8952378163004288, Configuration:\n",
       "   learning_rate_init, Value: 0.013811455791761022\n",
       "   momentum, Value: 0.19277636197514048]"
      ]
     },
     "execution_count": 8,
     "metadata": {},
     "output_type": "execute_result"
    }
   ],
   "source": [
    "# definisco random sample configuration points su cui valutare entrambi i modelli di ottimizzazione costuriti\n",
    "# per ottenere questi punti definisco un seed\n",
    "\n",
    "BIG_SEED = 30112019\n",
    "#cs.seed(BIG_SEED)\n",
    "init = cs.sample_configuration(5)\n",
    "#cs.seed(None)\n",
    "init"
   ]
  },
  {
   "cell_type": "code",
   "execution_count": 10,
   "metadata": {},
   "outputs": [],
   "source": [
    "# Definisco funzione obiettivo, sia MLPCLassifier e Cross-Validation vengono inizializzati con un seme fissato così da\n",
    "# evitare che i punti iniziali vengano valutati in modo diverso a seconda del modello utilizzato ma anzi vengano valutati\n",
    "# nello stesso modo\n",
    "\n",
    "def nn_from_cfg(cfg):\n",
    "    rseed = int(cfg['momentum']*cfg['learning_rate_init']*5000)\n",
    "    \n",
    "    cfg = {k : cfg[k] for k in cfg if cfg[k]}\n",
    "    \n",
    "    clf = MLPClassifier(**cfg,\n",
    "                        hidden_layer_sizes = (4, 2),\n",
    "                        random_state = rseed)\n",
    "    \n",
    "    skf = StratifiedKFold(n_splits = 10, random_state = BIG_SEED)\n",
    "    scores = cross_val_score(clf, X, Y, cv = skf, scoring = 'accuracy')\n",
    "    return (1-np.mean(scores))  # Minimizzo errore!"
   ]
  },
  {
   "cell_type": "code",
   "execution_count": 11,
   "metadata": {},
   "outputs": [
    {
     "name": "stdout",
     "output_type": "stream",
     "text": [
      "Default config: Configuration:\n",
      "  learning_rate_init, Value: 0.055\n",
      "  momentum, Value: 0.9\n",
      "\n"
     ]
    }
   ],
   "source": [
    "# visualizzo config di default\n",
    "\n",
    "default_cfg = cs.get_default_configuration()\n",
    "print(\"Default config:\", default_cfg)"
   ]
  },
  {
   "cell_type": "code",
   "execution_count": 12,
   "metadata": {},
   "outputs": [
    {
     "name": "stderr",
     "output_type": "stream",
     "text": [
      "INFO:smac.utils.io.cmd_reader.CMDReader:Output to smac3-output_2019-11-30_18:29:52_725010\n"
     ]
    }
   ],
   "source": [
    "# Si definisce lo scenario\n",
    "\n",
    "scenario = Scenario({\"run_obj\": \"quality\",   # si ottimizza la misura di valutazione della classificazione\n",
    "                     \"runcount-limit\": 24,   # 20 iterazioni più le configuzioni iniziali\n",
    "                     \"cs\": cs,               # configuration space\n",
    "                     \"deterministic\": \"True\"})"
   ]
  },
  {
   "cell_type": "code",
   "execution_count": 14,
   "metadata": {},
   "outputs": [
    {
     "name": "stderr",
     "output_type": "stream",
     "text": [
      "INFO:smac.facade.smac_bo_facade.SMAC4BO:Optimizing a deterministic scenario for quality without a tuner timeout - will make SMAC deterministic and only evaluate one configuration per iteration!\n",
      "INFO:smac.initial_design.initial_design.InitialDesign:Running initial design for 5 configurations\n",
      "INFO:smac.facade.smac_bo_facade.SMAC4BO:<class 'smac.facade.smac_bo_facade.SMAC4BO'>\n"
     ]
    },
    {
     "name": "stdout",
     "output_type": "stream",
     "text": [
      "Optimizing! Depending on your machine, this might take a few minutes.\n"
     ]
    },
    {
     "name": "stderr",
     "output_type": "stream",
     "text": [
      "INFO:smac.intensification.intensification.Intensifier:Challenger (0.1186) is better than incumbent (0.1428) on 1 runs.\n",
      "INFO:smac.intensification.intensification.Intensifier:Changes in incumbent:\n",
      "INFO:smac.intensification.intensification.Intensifier:  learning_rate_init : 0.017979911186950207 -> 0.05815989732046531\n",
      "INFO:smac.intensification.intensification.Intensifier:  momentum : 0.11781733563117572 -> 0.34199984857215393\n",
      "INFO:smac.intensification.intensification.Intensifier:Updated estimated cost of incumbent on 1 runs: 0.1186\n",
      "INFO:smac.intensification.intensification.Intensifier:Updated estimated cost of incumbent on 1 runs: 0.1186\n",
      "INFO:smac.intensification.intensification.Intensifier:Updated estimated cost of incumbent on 1 runs: 0.1186\n",
      "INFO:smac.intensification.intensification.Intensifier:Updated estimated cost of incumbent on 1 runs: 0.1186\n",
      "INFO:smac.intensification.intensification.Intensifier:Updated estimated cost of incumbent on 1 runs: 0.1186\n",
      "INFO:smac.intensification.intensification.Intensifier:Challenger (0.1086) is better than incumbent (0.1186) on 1 runs.\n",
      "INFO:smac.intensification.intensification.Intensifier:Changes in incumbent:\n",
      "INFO:smac.intensification.intensification.Intensifier:  learning_rate_init : 0.05815989732046531 -> 0.04362446152970936\n",
      "INFO:smac.intensification.intensification.Intensifier:  momentum : 0.34199984857215393 -> 0.46700885612181786\n",
      "INFO:smac.intensification.intensification.Intensifier:Updated estimated cost of incumbent on 1 runs: 0.1086\n",
      "INFO:smac.intensification.intensification.Intensifier:Updated estimated cost of incumbent on 1 runs: 0.1086\n",
      "INFO:smac.intensification.intensification.Intensifier:Updated estimated cost of incumbent on 1 runs: 0.1086\n",
      "INFO:smac.intensification.intensification.Intensifier:Updated estimated cost of incumbent on 1 runs: 0.1086\n",
      "INFO:smac.intensification.intensification.Intensifier:Updated estimated cost of incumbent on 1 runs: 0.1086\n",
      "INFO:smac.intensification.intensification.Intensifier:Updated estimated cost of incumbent on 1 runs: 0.1086\n",
      "INFO:smac.intensification.intensification.Intensifier:Updated estimated cost of incumbent on 1 runs: 0.1086\n",
      "INFO:smac.intensification.intensification.Intensifier:Updated estimated cost of incumbent on 1 runs: 0.1086\n",
      "INFO:smac.intensification.intensification.Intensifier:Updated estimated cost of incumbent on 1 runs: 0.1086\n",
      "INFO:smac.intensification.intensification.Intensifier:Updated estimated cost of incumbent on 1 runs: 0.1086\n",
      "INFO:smac.intensification.intensification.Intensifier:Updated estimated cost of incumbent on 1 runs: 0.1086\n",
      "INFO:smac.intensification.intensification.Intensifier:Updated estimated cost of incumbent on 1 runs: 0.1086\n",
      "INFO:smac.intensification.intensification.Intensifier:Updated estimated cost of incumbent on 1 runs: 0.1086\n",
      "INFO:smac.intensification.intensification.Intensifier:Updated estimated cost of incumbent on 1 runs: 0.1086\n",
      "INFO:smac.intensification.intensification.Intensifier:Updated estimated cost of incumbent on 1 runs: 0.1086\n",
      "INFO:smac.stats.stats.Stats:##########################################################\n",
      "INFO:smac.stats.stats.Stats:Statistics:\n",
      "INFO:smac.stats.stats.Stats:#Incumbent changed: 2\n",
      "INFO:smac.stats.stats.Stats:#Target algorithm runs: 24 / 24.0\n",
      "INFO:smac.stats.stats.Stats:#Configurations: 24\n",
      "INFO:smac.stats.stats.Stats:Used wallclock time: 84.49 / inf sec \n",
      "INFO:smac.stats.stats.Stats:Used target algorithm runtime: 14.07 / inf sec\n",
      "INFO:smac.stats.stats.Stats:##########################################################\n",
      "INFO:smac.facade.smac_bo_facade.SMAC4BO:Final Incumbent: Configuration:\n",
      "  learning_rate_init, Value: 0.04362446152970936\n",
      "  momentum, Value: 0.46700885612181786\n",
      "\n",
      "INFO:smac.facade.smac_bo_facade.SMAC4BO:Estimated cost of incumbent: 0.108586\n"
     ]
    },
    {
     "name": "stdout",
     "output_type": "stream",
     "text": [
      "Optimized Value: 0.89\n"
     ]
    }
   ],
   "source": [
    "# Ottimizzazione SMAC con funzione di acquisizione Expeceted Improvement e Modello surrogato Gaussian Process\n",
    "\n",
    "print(\"Optimizing! Depending on your machine, this might take a few minutes.\")\n",
    "smac1 = SMAC4BO(scenario = scenario,\n",
    "                #rng = np.random.RandomState(BIG_SEED),\n",
    "                tae_runner = nn_from_cfg,\n",
    "               initial_design = None,\n",
    "              initial_design_kwargs = {'max_config_fracs': 5/24}, # necessario per fare in modo che vengano valutati\n",
    "               initial_configurations = init, # solo le configurazioni iniziali impostate prima.\n",
    "               acquisition_function = EI)\n",
    "\n",
    "incumbent1 = smac1.optimize()\n",
    "\n",
    "inc_value1 = nn_from_cfg(incumbent1)\n",
    "print(\"Optimized Value: %.2f\" % (1-inc_value1))"
   ]
  },
  {
   "cell_type": "code",
   "execution_count": 15,
   "metadata": {},
   "outputs": [
    {
     "name": "stderr",
     "output_type": "stream",
     "text": [
      "INFO:smac.facade.smac_bo_facade.SMAC4BO:Optimizing a deterministic scenario for quality without a tuner timeout - will make SMAC deterministic and only evaluate one configuration per iteration!\n",
      "INFO:smac.initial_design.initial_design.InitialDesign:Running initial design for 5 configurations\n",
      "INFO:smac.facade.smac_bo_facade.SMAC4BO:<class 'smac.facade.smac_bo_facade.SMAC4BO'>\n"
     ]
    },
    {
     "name": "stdout",
     "output_type": "stream",
     "text": [
      "Optimizing! Depending on your machine, this might take a few minutes.\n"
     ]
    },
    {
     "name": "stderr",
     "output_type": "stream",
     "text": [
      "INFO:smac.intensification.intensification.Intensifier:Challenger (0.1186) is better than incumbent (0.1428) on 1 runs.\n",
      "INFO:smac.intensification.intensification.Intensifier:Changes in incumbent:\n",
      "INFO:smac.intensification.intensification.Intensifier:  learning_rate_init : 0.017979911186950207 -> 0.05815989732046531\n",
      "INFO:smac.intensification.intensification.Intensifier:  momentum : 0.11781733563117572 -> 0.34199984857215393\n",
      "INFO:smac.intensification.intensification.Intensifier:Updated estimated cost of incumbent on 1 runs: 0.1186\n",
      "INFO:smac.intensification.intensification.Intensifier:Updated estimated cost of incumbent on 1 runs: 0.1186\n",
      "INFO:smac.intensification.intensification.Intensifier:Updated estimated cost of incumbent on 1 runs: 0.1186\n",
      "INFO:smac.intensification.intensification.Intensifier:Updated estimated cost of incumbent on 1 runs: 0.1186\n",
      "INFO:smac.intensification.intensification.Intensifier:Updated estimated cost of incumbent on 1 runs: 0.1186\n",
      "INFO:smac.intensification.intensification.Intensifier:Updated estimated cost of incumbent on 1 runs: 0.1186\n",
      "INFO:smac.intensification.intensification.Intensifier:Updated estimated cost of incumbent on 1 runs: 0.1186\n",
      "INFO:smac.intensification.intensification.Intensifier:Updated estimated cost of incumbent on 1 runs: 0.1186\n",
      "INFO:smac.intensification.intensification.Intensifier:Updated estimated cost of incumbent on 1 runs: 0.1186\n",
      "INFO:smac.intensification.intensification.Intensifier:Updated estimated cost of incumbent on 1 runs: 0.1186\n",
      "INFO:smac.intensification.intensification.Intensifier:Updated estimated cost of incumbent on 1 runs: 0.1186\n",
      "INFO:smac.intensification.intensification.Intensifier:Updated estimated cost of incumbent on 1 runs: 0.1186\n",
      "INFO:smac.intensification.intensification.Intensifier:Updated estimated cost of incumbent on 1 runs: 0.1186\n",
      "INFO:smac.intensification.intensification.Intensifier:Updated estimated cost of incumbent on 1 runs: 0.1186\n",
      "INFO:smac.intensification.intensification.Intensifier:Updated estimated cost of incumbent on 1 runs: 0.1186\n",
      "INFO:smac.intensification.intensification.Intensifier:Updated estimated cost of incumbent on 1 runs: 0.1186\n",
      "INFO:smac.intensification.intensification.Intensifier:Challenger (0.1077) is better than incumbent (0.1186) on 1 runs.\n",
      "INFO:smac.intensification.intensification.Intensifier:Changes in incumbent:\n",
      "INFO:smac.intensification.intensification.Intensifier:  learning_rate_init : 0.05815989732046531 -> 0.03532908275934733\n",
      "INFO:smac.intensification.intensification.Intensifier:  momentum : 0.34199984857215393 -> 0.5761814399985113\n",
      "INFO:smac.intensification.intensification.Intensifier:Updated estimated cost of incumbent on 1 runs: 0.1077\n",
      "INFO:smac.intensification.intensification.Intensifier:Updated estimated cost of incumbent on 1 runs: 0.1077\n",
      "INFO:smac.intensification.intensification.Intensifier:Updated estimated cost of incumbent on 1 runs: 0.1077\n",
      "INFO:smac.intensification.intensification.Intensifier:Updated estimated cost of incumbent on 1 runs: 0.1077\n",
      "INFO:smac.stats.stats.Stats:##########################################################\n",
      "INFO:smac.stats.stats.Stats:Statistics:\n",
      "INFO:smac.stats.stats.Stats:#Incumbent changed: 2\n",
      "INFO:smac.stats.stats.Stats:#Target algorithm runs: 24 / 24.0\n",
      "INFO:smac.stats.stats.Stats:#Configurations: 24\n",
      "INFO:smac.stats.stats.Stats:Used wallclock time: 81.37 / inf sec \n",
      "INFO:smac.stats.stats.Stats:Used target algorithm runtime: 16.24 / inf sec\n",
      "INFO:smac.stats.stats.Stats:##########################################################\n",
      "INFO:smac.facade.smac_bo_facade.SMAC4BO:Final Incumbent: Configuration:\n",
      "  learning_rate_init, Value: 0.03532908275934733\n",
      "  momentum, Value: 0.5761814399985113\n",
      "\n",
      "INFO:smac.facade.smac_bo_facade.SMAC4BO:Estimated cost of incumbent: 0.107677\n"
     ]
    },
    {
     "name": "stdout",
     "output_type": "stream",
     "text": [
      "Optimized Value: 0.89\n"
     ]
    }
   ],
   "source": [
    "# Ottimizzazione SMAC con funzione di acquisizione Lower Confidence Bound e Modello surrogato Gaussian Process\n",
    "\n",
    "print(\"Optimizing! Depending on your machine, this might take a few minutes.\")\n",
    "smac2 = SMAC4BO(scenario = scenario,\n",
    "                #rng = np.random.RandomState(BIG_SEED),\n",
    "                tae_runner = nn_from_cfg,\n",
    "               initial_design = None,\n",
    "               initial_design_kwargs = {'max_config_fracs': 5/24},\n",
    "               initial_configurations = init,\n",
    "               acquisition_function = LCB)\n",
    "\n",
    "incumbent2 = smac2.optimize()\n",
    "\n",
    "inc_value2 = nn_from_cfg(incumbent2)\n",
    "print(\"Optimized Value: %.2f\" % (1-inc_value2))"
   ]
  },
  {
   "cell_type": "code",
   "execution_count": 16,
   "metadata": {},
   "outputs": [],
   "source": [
    "maximum = 0.00000001\n",
    "history_of_maximums = []\n",
    "maximum2 = 0.00000001\n",
    "history_of_maximums2 = []\n",
    "\n",
    "history1 = 1-smac1.get_X_y()[1]\n",
    "\n",
    "for i in range(len(history1)):\n",
    "    if history1[i] > maximum:\n",
    "        maximum = history1[i]\n",
    "        history_of_maximums.append(maximum)\n",
    "    else:\n",
    "        history_of_maximums.append(maximum)  \n",
    "\n",
    "      \n",
    "        \n",
    "history2 = 1-smac2.get_X_y()[1]\n",
    "\n",
    "for i in range(len(history2)):\n",
    "    if history2[i] > maximum2:\n",
    "        maximum2 = history2[i]\n",
    "        history_of_maximums2.append(maximum2)\n",
    "    else:\n",
    "        history_of_maximums2.append(maximum2)"
   ]
  },
  {
   "cell_type": "code",
   "execution_count": 17,
   "metadata": {},
   "outputs": [
    {
     "data": {
      "text/plain": [
       "Text(0, 0.5, 'Accuracy')"
      ]
     },
     "execution_count": 17,
     "metadata": {},
     "output_type": "execute_result"
    },
    {
     "data": {
      "image/png": "[encoded data removed]",
      "text/plain": [
       "<Figure size 1080x360 with 1 Axes>"
      ]
     },
     "metadata": {
      "needs_background": "light"
     },
     "output_type": "display_data"
    }
   ],
   "source": [
    "plt.figure(figsize = (15,5))\n",
    "plt.plot(history_of_maximums[4:], marker = \"o\")\n",
    "plt.plot(history_of_maximums2[4:], marker = \"o\")\n",
    "plt.legend([\"EI\", \"LCB\"])\n",
    "plt.xlabel(\"Iterations\")\n",
    "plt.ylabel(\"Accuracy\")"
   ]
  },
  {
   "cell_type": "markdown",
   "metadata": {},
   "source": [
    "Adesso si procede ad effettuare prova con Grid Search Cross-Validation e Random Search Cross-Validation"
   ]
  },
  {
   "cell_type": "code",
   "execution_count": 18,
   "metadata": {},
   "outputs": [
    {
     "name": "stdout",
     "output_type": "stream",
     "text": [
      "Best params: {'learning_rate_init': 0.01, 'momentum': 0.4}\n",
      "Best score: 0.89\n"
     ]
    }
   ],
   "source": [
    "mlp = MLPClassifier(hidden_layer_sizes = (4,2)#, random_state = int(247.5)\n",
    "                   )\n",
    "param_grid = {\"learning_rate_init\":[0.01, 0.03, 0.06, 0.09, 0.1], \"momentum\":[0.1, 0.2, 0.4, 0.6, 0.9]}\n",
    "\n",
    "\n",
    "skf = StratifiedKFold(n_splits = 10, random_state = BIG_SEED)\n",
    "clf_grid = GridSearchCV(mlp, param_grid, scoring = \"accuracy\", cv = skf)\n",
    "\n",
    "clf_grid.fit(X, Y)\n",
    "\n",
    "print(\"Best params: {}\\nBest score: {}\".format(clf_grid.best_params_, clf_grid.best_score_))"
   ]
  },
  {
   "cell_type": "code",
   "execution_count": 19,
   "metadata": {},
   "outputs": [
    {
     "name": "stdout",
     "output_type": "stream",
     "text": [
      "Best params: {'learning_rate_init': 0.07608293208556602, 'momentum': 0.9089142501378277}\n",
      "Best score: 0.88\n"
     ]
    }
   ],
   "source": [
    "mlp = MLPClassifier(hidden_layer_sizes = (4,2)#, random_state = int(247.5)\n",
    "                   )\n",
    "\n",
    "param_distribution = {\"learning_rate_init\":uniform(0.01, 0.1), \"momentum\":uniform(0.1, 0.9)}\n",
    "\n",
    "\n",
    "skf = StratifiedKFold(n_splits = 10, random_state = BIG_SEED)\n",
    "clf_random = RandomizedSearchCV(mlp, param_distribution, scoring = \"accuracy\", cv = skf, n_iter = 25)\n",
    "\n",
    "clf_random.fit(X, Y)\n",
    "\n",
    "print(\"Best params: {}\\nBest score: {}\".format(clf_random.best_params_, clf_random.best_score_))"
   ]
  },
  {
   "cell_type": "markdown",
   "metadata": {},
   "source": [
    "Il random search a parità di iterazioni si avvicina di più al risultato ottenuto dal Gaussian Process, ma risulta più rapido, almeno in questo caso giocattolo."
   ]
  },
  {
   "cell_type": "markdown",
   "metadata": {},
   "source": [
    "<hr>"
   ]
  },
  {
   "cell_type": "markdown",
   "metadata": {},
   "source": [
    "### Step 2"
   ]
  },
  {
   "cell_type": "markdown",
   "metadata": {},
   "source": [
    "Si ripete quanto fatto utilizzando però il Random Forest come modello surrogato al posto del Gaussian Process, si aumentano il numero di configurazioni iniziali a 10 ed il numero di iterazioni a 100 oltre ad ottimizzare anche il numero di neuroni tra 1 e 5 per ognuno dei 2 layer."
   ]
  },
  {
   "cell_type": "code",
   "execution_count": 62,
   "metadata": {},
   "outputs": [
    {
     "name": "stdout",
     "output_type": "stream",
     "text": [
      "Adding parameters to be optimized:\n"
     ]
    },
    {
     "data": {
      "text/plain": [
       "[learning_rate_init, Type: UniformFloat, Range: [0.01, 0.1], Default: 0.055,\n",
       " momentum, Type: UniformFloat, Range: [0.1, 0.9], Default: 0.9,\n",
       " h1, Type: UniformInteger, Range: [1, 5], Default: 3,\n",
       " h2, Type: UniformInteger, Range: [1, 5], Default: 3]"
      ]
     },
     "execution_count": 62,
     "metadata": {},
     "output_type": "execute_result"
    }
   ],
   "source": [
    "# Inizializzo configuration space\n",
    "cs = ConfigurationSpace()\n",
    "\n",
    "# Definisco distribuzione degli elementi che voglio ottimizzare\n",
    "l_rate = UniformFloatHyperparameter(\"learning_rate_init\", 0.01, 0.1)\n",
    "momentum = UniformFloatHyperparameter(\"momentum\", 0.1, 0.9, default_value = 0.9)\n",
    "n_of_neurons1 = UniformIntegerHyperparameter(\"h1\", 1, 5)\n",
    "n_of_neurons2 = UniformIntegerHyperparameter(\"h2\", 1, 5)\n",
    "\n",
    "print(\"Adding parameters to be optimized:\")\n",
    "cs.add_hyperparameters([l_rate, momentum, n_of_neurons1, n_of_neurons2])"
   ]
  },
  {
   "cell_type": "code",
   "execution_count": 79,
   "metadata": {},
   "outputs": [
    {
     "data": {
      "text/plain": [
       "[Configuration:\n",
       "   h1, Value: 3\n",
       "   h2, Value: 3\n",
       "   learning_rate_init, Value: 0.025774700189912465\n",
       "   momentum, Value: 0.8082485185430337, Configuration:\n",
       "   h1, Value: 4\n",
       "   h2, Value: 4\n",
       "   learning_rate_init, Value: 0.07895714278993217\n",
       "   momentum, Value: 0.4798418658647057, Configuration:\n",
       "   h1, Value: 2\n",
       "   h2, Value: 4\n",
       "   learning_rate_init, Value: 0.0244353187205082\n",
       "   momentum, Value: 0.10246778496447417, Configuration:\n",
       "   h1, Value: 5\n",
       "   h2, Value: 2\n",
       "   learning_rate_init, Value: 0.084126858996934\n",
       "   momentum, Value: 0.8419114029159281, Configuration:\n",
       "   h1, Value: 4\n",
       "   h2, Value: 1\n",
       "   learning_rate_init, Value: 0.09423722047300608\n",
       "   momentum, Value: 0.3074709204657958, Configuration:\n",
       "   h1, Value: 1\n",
       "   h2, Value: 3\n",
       "   learning_rate_init, Value: 0.05637709875041537\n",
       "   momentum, Value: 0.5052474474786273, Configuration:\n",
       "   h1, Value: 1\n",
       "   h2, Value: 2\n",
       "   learning_rate_init, Value: 0.016368487486914298\n",
       "   momentum, Value: 0.4679940130193705, Configuration:\n",
       "   h1, Value: 5\n",
       "   h2, Value: 5\n",
       "   learning_rate_init, Value: 0.08076807178568397\n",
       "   momentum, Value: 0.16013221608292946, Configuration:\n",
       "   h1, Value: 5\n",
       "   h2, Value: 3\n",
       "   learning_rate_init, Value: 0.015014088709560391\n",
       "   momentum, Value: 0.7395173401405521, Configuration:\n",
       "   h1, Value: 2\n",
       "   h2, Value: 5\n",
       "   learning_rate_init, Value: 0.02433006768807104\n",
       "   momentum, Value: 0.851585888151734]"
      ]
     },
     "execution_count": 79,
     "metadata": {},
     "output_type": "execute_result"
    }
   ],
   "source": [
    "init_rf = cs.sample_configuration(10)\n",
    "init_rf"
   ]
  },
  {
   "cell_type": "code",
   "execution_count": 80,
   "metadata": {},
   "outputs": [],
   "source": [
    "# Definisco funzione obiettivo\n",
    "\n",
    "def nn_from_cfg(cfg):\n",
    "    rseed = int(cfg['momentum']*cfg['learning_rate_init']*5000)\n",
    "    cfg = {k : cfg[k] for k in cfg if cfg[k]}\n",
    "    clf = MLPClassifier(\n",
    "                        hidden_layer_sizes=(cfg[\"h1\"], cfg[\"h2\"]),\n",
    "                        learning_rate_init = cfg[\"learning_rate_init\"],\n",
    "                        momentum = cfg[\"momentum\"],\n",
    "                        random_state = rseed)\n",
    "    \n",
    "    skf = StratifiedKFold(n_splits = 10, random_state = BIG_SEED)\n",
    "    scores = cross_val_score(clf, X, Y, cv = skf, scoring = 'accuracy')\n",
    "    return (1-np.mean(scores))  # Minimizzo errore!"
   ]
  },
  {
   "cell_type": "code",
   "execution_count": 81,
   "metadata": {},
   "outputs": [
    {
     "name": "stdout",
     "output_type": "stream",
     "text": [
      "Default config: Configuration:\n",
      "  h1, Value: 3\n",
      "  h2, Value: 3\n",
      "  learning_rate_init, Value: 0.055\n",
      "  momentum, Value: 0.9\n",
      "\n"
     ]
    }
   ],
   "source": [
    "default_cfg = cs.get_default_configuration()\n",
    "print(\"Default config:\", default_cfg)"
   ]
  },
  {
   "cell_type": "code",
   "execution_count": 82,
   "metadata": {},
   "outputs": [
    {
     "name": "stderr",
     "output_type": "stream",
     "text": [
      "INFO:smac.utils.io.cmd_reader.CMDReader:Output to smac3-output_2019-11-30_19:07:51_384413\n"
     ]
    }
   ],
   "source": [
    "scenario = Scenario({\"run_obj\": \"quality\",   # we optimize quality (alternatively runtime)\n",
    "                     \"runcount-limit\": 109,   # max. number of function evaluations; for this example set to a low number\n",
    "                     \"cs\": cs,               # configuration space\n",
    "                     \"deterministic\": \"true\"})"
   ]
  },
  {
   "cell_type": "code",
   "execution_count": 83,
   "metadata": {
    "scrolled": true
   },
   "outputs": [
    {
     "name": "stderr",
     "output_type": "stream",
     "text": [
      "INFO:smac.facade.smac_hpo_facade.SMAC4HPO:Optimizing a deterministic scenario for quality without a tuner timeout - will make SMAC deterministic and only evaluate one configuration per iteration!\n",
      "INFO:smac.initial_design.initial_design.InitialDesign:Running initial design for 10 configurations\n",
      "INFO:smac.facade.smac_hpo_facade.SMAC4HPO:<class 'smac.facade.smac_hpo_facade.SMAC4HPO'>\n"
     ]
    },
    {
     "name": "stdout",
     "output_type": "stream",
     "text": [
      "Optimizing! Depending on your machine, this might take a few minutes.\n"
     ]
    },
    {
     "name": "stderr",
     "output_type": "stream",
     "text": [
      "INFO:smac.intensification.intensification.Intensifier:Challenger (0.1206) is better than incumbent (0.1286) on 1 runs.\n",
      "INFO:smac.intensification.intensification.Intensifier:Changes in incumbent:\n",
      "INFO:smac.intensification.intensification.Intensifier:  h1 : 3 -> 2\n",
      "INFO:smac.intensification.intensification.Intensifier:  h2 : 3 -> 4\n",
      "INFO:smac.intensification.intensification.Intensifier:  learning_rate_init : 0.025774700189912465 -> 0.0244353187205082\n",
      "INFO:smac.intensification.intensification.Intensifier:  momentum : 0.8082485185430337 -> 0.10246778496447417\n",
      "INFO:smac.intensification.intensification.Intensifier:Challenger (0.1186) is better than incumbent (0.1206) on 1 runs.\n",
      "INFO:smac.intensification.intensification.Intensifier:Changes in incumbent:\n",
      "INFO:smac.intensification.intensification.Intensifier:  h1 : 2 -> 1\n",
      "INFO:smac.intensification.intensification.Intensifier:  h2 : 4 -> 2\n",
      "INFO:smac.intensification.intensification.Intensifier:  learning_rate_init : 0.0244353187205082 -> 0.016368487486914298\n",
      "INFO:smac.intensification.intensification.Intensifier:  momentum : 0.10246778496447417 -> 0.4679940130193705\n",
      "INFO:smac.intensification.intensification.Intensifier:Updated estimated cost of incumbent on 1 runs: 0.1186\n",
      "INFO:smac.intensification.intensification.Intensifier:Updated estimated cost of incumbent on 1 runs: 0.1186\n",
      "INFO:smac.intensification.intensification.Intensifier:Updated estimated cost of incumbent on 1 runs: 0.1186\n",
      "INFO:smac.intensification.intensification.Intensifier:Updated estimated cost of incumbent on 1 runs: 0.1186\n",
      "INFO:smac.intensification.intensification.Intensifier:Updated estimated cost of incumbent on 1 runs: 0.1186\n",
      "INFO:smac.intensification.intensification.Intensifier:Updated estimated cost of incumbent on 1 runs: 0.1186\n",
      "INFO:smac.intensification.intensification.Intensifier:Updated estimated cost of incumbent on 1 runs: 0.1186\n",
      "INFO:smac.intensification.intensification.Intensifier:Updated estimated cost of incumbent on 1 runs: 0.1186\n",
      "INFO:smac.intensification.intensification.Intensifier:Updated estimated cost of incumbent on 1 runs: 0.1186\n",
      "INFO:smac.intensification.intensification.Intensifier:Updated estimated cost of incumbent on 1 runs: 0.1186\n",
      "INFO:smac.intensification.intensification.Intensifier:Updated estimated cost of incumbent on 1 runs: 0.1186\n",
      "INFO:smac.intensification.intensification.Intensifier:Updated estimated cost of incumbent on 1 runs: 0.1186\n",
      "INFO:smac.intensification.intensification.Intensifier:Updated estimated cost of incumbent on 1 runs: 0.1186\n",
      "INFO:smac.intensification.intensification.Intensifier:Updated estimated cost of incumbent on 1 runs: 0.1186\n",
      "INFO:smac.intensification.intensification.Intensifier:Updated estimated cost of incumbent on 1 runs: 0.1186\n",
      "INFO:smac.intensification.intensification.Intensifier:Updated estimated cost of incumbent on 1 runs: 0.1186\n",
      "INFO:smac.intensification.intensification.Intensifier:Updated estimated cost of incumbent on 1 runs: 0.1186\n",
      "INFO:smac.intensification.intensification.Intensifier:Updated estimated cost of incumbent on 1 runs: 0.1186\n",
      "INFO:smac.intensification.intensification.Intensifier:Updated estimated cost of incumbent on 1 runs: 0.1186\n",
      "INFO:smac.intensification.intensification.Intensifier:Updated estimated cost of incumbent on 1 runs: 0.1186\n",
      "INFO:smac.intensification.intensification.Intensifier:Updated estimated cost of incumbent on 1 runs: 0.1186\n",
      "INFO:smac.intensification.intensification.Intensifier:Updated estimated cost of incumbent on 1 runs: 0.1186\n",
      "INFO:smac.intensification.intensification.Intensifier:Updated estimated cost of incumbent on 1 runs: 0.1186\n",
      "INFO:smac.intensification.intensification.Intensifier:Updated estimated cost of incumbent on 1 runs: 0.1186\n",
      "INFO:smac.intensification.intensification.Intensifier:Updated estimated cost of incumbent on 1 runs: 0.1186\n",
      "INFO:smac.intensification.intensification.Intensifier:Updated estimated cost of incumbent on 1 runs: 0.1186\n",
      "INFO:smac.intensification.intensification.Intensifier:Updated estimated cost of incumbent on 1 runs: 0.1186\n",
      "INFO:smac.intensification.intensification.Intensifier:Updated estimated cost of incumbent on 1 runs: 0.1186\n",
      "INFO:smac.intensification.intensification.Intensifier:Challenger (0.1106) is better than incumbent (0.1186) on 1 runs.\n",
      "INFO:smac.intensification.intensification.Intensifier:Changes in incumbent:\n",
      "INFO:smac.intensification.intensification.Intensifier:  h1 : 1 -> 4\n",
      "INFO:smac.intensification.intensification.Intensifier:  h2 : 2 -> 1\n",
      "INFO:smac.intensification.intensification.Intensifier:  learning_rate_init : 0.016368487486914298 -> 0.07056711895035264\n",
      "INFO:smac.intensification.intensification.Intensifier:  momentum : 0.4679940130193705 -> 0.8550145475906625\n",
      "INFO:smac.intensification.intensification.Intensifier:Updated estimated cost of incumbent on 1 runs: 0.1106\n",
      "INFO:smac.intensification.intensification.Intensifier:Updated estimated cost of incumbent on 1 runs: 0.1106\n",
      "INFO:smac.intensification.intensification.Intensifier:Updated estimated cost of incumbent on 1 runs: 0.1106\n",
      "INFO:smac.intensification.intensification.Intensifier:Updated estimated cost of incumbent on 1 runs: 0.1106\n",
      "INFO:smac.intensification.intensification.Intensifier:Updated estimated cost of incumbent on 1 runs: 0.1106\n",
      "INFO:smac.intensification.intensification.Intensifier:Updated estimated cost of incumbent on 1 runs: 0.1106\n",
      "INFO:smac.intensification.intensification.Intensifier:Updated estimated cost of incumbent on 1 runs: 0.1106\n",
      "INFO:smac.intensification.intensification.Intensifier:Updated estimated cost of incumbent on 1 runs: 0.1106\n",
      "INFO:smac.intensification.intensification.Intensifier:Updated estimated cost of incumbent on 1 runs: 0.1106\n",
      "INFO:smac.intensification.intensification.Intensifier:Updated estimated cost of incumbent on 1 runs: 0.1106\n",
      "INFO:smac.intensification.intensification.Intensifier:Updated estimated cost of incumbent on 1 runs: 0.1106\n",
      "INFO:smac.intensification.intensification.Intensifier:Updated estimated cost of incumbent on 1 runs: 0.1106\n",
      "INFO:smac.intensification.intensification.Intensifier:Updated estimated cost of incumbent on 1 runs: 0.1106\n",
      "INFO:smac.intensification.intensification.Intensifier:Updated estimated cost of incumbent on 1 runs: 0.1106\n",
      "INFO:smac.intensification.intensification.Intensifier:Updated estimated cost of incumbent on 1 runs: 0.1106\n",
      "INFO:smac.intensification.intensification.Intensifier:Updated estimated cost of incumbent on 1 runs: 0.1106\n",
      "INFO:smac.intensification.intensification.Intensifier:Updated estimated cost of incumbent on 1 runs: 0.1106\n",
      "INFO:smac.intensification.intensification.Intensifier:Updated estimated cost of incumbent on 1 runs: 0.1106\n",
      "INFO:smac.intensification.intensification.Intensifier:Updated estimated cost of incumbent on 1 runs: 0.1106\n",
      "INFO:smac.intensification.intensification.Intensifier:Updated estimated cost of incumbent on 1 runs: 0.1106\n",
      "INFO:smac.intensification.intensification.Intensifier:Updated estimated cost of incumbent on 1 runs: 0.1106\n",
      "INFO:smac.intensification.intensification.Intensifier:Updated estimated cost of incumbent on 1 runs: 0.1106\n",
      "INFO:smac.intensification.intensification.Intensifier:Updated estimated cost of incumbent on 1 runs: 0.1106\n",
      "INFO:smac.intensification.intensification.Intensifier:Updated estimated cost of incumbent on 1 runs: 0.1106\n",
      "INFO:smac.intensification.intensification.Intensifier:Updated estimated cost of incumbent on 1 runs: 0.1106\n",
      "INFO:smac.intensification.intensification.Intensifier:Updated estimated cost of incumbent on 1 runs: 0.1106\n",
      "INFO:smac.intensification.intensification.Intensifier:Updated estimated cost of incumbent on 1 runs: 0.1106\n",
      "INFO:smac.intensification.intensification.Intensifier:Updated estimated cost of incumbent on 1 runs: 0.1106\n",
      "INFO:smac.intensification.intensification.Intensifier:Updated estimated cost of incumbent on 1 runs: 0.1106\n",
      "INFO:smac.intensification.intensification.Intensifier:Updated estimated cost of incumbent on 1 runs: 0.1106\n",
      "INFO:smac.intensification.intensification.Intensifier:Updated estimated cost of incumbent on 1 runs: 0.1106\n",
      "INFO:smac.intensification.intensification.Intensifier:Updated estimated cost of incumbent on 1 runs: 0.1106\n",
      "INFO:smac.intensification.intensification.Intensifier:Updated estimated cost of incumbent on 1 runs: 0.1106\n"
     ]
    },
    {
     "name": "stderr",
     "output_type": "stream",
     "text": [
      "INFO:smac.intensification.intensification.Intensifier:Updated estimated cost of incumbent on 1 runs: 0.1106\n",
      "INFO:smac.intensification.intensification.Intensifier:Updated estimated cost of incumbent on 1 runs: 0.1106\n",
      "INFO:smac.intensification.intensification.Intensifier:Updated estimated cost of incumbent on 1 runs: 0.1106\n",
      "INFO:smac.intensification.intensification.Intensifier:Updated estimated cost of incumbent on 1 runs: 0.1106\n",
      "INFO:smac.intensification.intensification.Intensifier:Updated estimated cost of incumbent on 1 runs: 0.1106\n",
      "INFO:smac.intensification.intensification.Intensifier:Updated estimated cost of incumbent on 1 runs: 0.1106\n",
      "INFO:smac.intensification.intensification.Intensifier:Updated estimated cost of incumbent on 1 runs: 0.1106\n",
      "INFO:smac.intensification.intensification.Intensifier:Updated estimated cost of incumbent on 1 runs: 0.1106\n",
      "INFO:smac.intensification.intensification.Intensifier:Updated estimated cost of incumbent on 1 runs: 0.1106\n",
      "INFO:smac.intensification.intensification.Intensifier:Updated estimated cost of incumbent on 1 runs: 0.1106\n",
      "INFO:smac.intensification.intensification.Intensifier:Updated estimated cost of incumbent on 1 runs: 0.1106\n",
      "INFO:smac.intensification.intensification.Intensifier:Updated estimated cost of incumbent on 1 runs: 0.1106\n",
      "INFO:smac.intensification.intensification.Intensifier:Updated estimated cost of incumbent on 1 runs: 0.1106\n",
      "INFO:smac.intensification.intensification.Intensifier:Updated estimated cost of incumbent on 1 runs: 0.1106\n",
      "INFO:smac.intensification.intensification.Intensifier:Updated estimated cost of incumbent on 1 runs: 0.1106\n",
      "INFO:smac.intensification.intensification.Intensifier:Updated estimated cost of incumbent on 1 runs: 0.1106\n",
      "INFO:smac.intensification.intensification.Intensifier:Updated estimated cost of incumbent on 1 runs: 0.1106\n",
      "INFO:smac.intensification.intensification.Intensifier:Updated estimated cost of incumbent on 1 runs: 0.1106\n",
      "INFO:smac.intensification.intensification.Intensifier:Updated estimated cost of incumbent on 1 runs: 0.1106\n",
      "INFO:smac.intensification.intensification.Intensifier:Updated estimated cost of incumbent on 1 runs: 0.1106\n",
      "INFO:smac.intensification.intensification.Intensifier:Updated estimated cost of incumbent on 1 runs: 0.1106\n",
      "INFO:smac.intensification.intensification.Intensifier:Updated estimated cost of incumbent on 1 runs: 0.1106\n",
      "INFO:smac.intensification.intensification.Intensifier:Updated estimated cost of incumbent on 1 runs: 0.1106\n",
      "INFO:smac.intensification.intensification.Intensifier:Updated estimated cost of incumbent on 1 runs: 0.1106\n",
      "INFO:smac.intensification.intensification.Intensifier:Updated estimated cost of incumbent on 1 runs: 0.1106\n",
      "INFO:smac.intensification.intensification.Intensifier:Updated estimated cost of incumbent on 1 runs: 0.1106\n",
      "INFO:smac.intensification.intensification.Intensifier:Updated estimated cost of incumbent on 1 runs: 0.1106\n",
      "INFO:smac.intensification.intensification.Intensifier:Updated estimated cost of incumbent on 1 runs: 0.1106\n",
      "INFO:smac.intensification.intensification.Intensifier:Updated estimated cost of incumbent on 1 runs: 0.1106\n",
      "INFO:smac.intensification.intensification.Intensifier:Updated estimated cost of incumbent on 1 runs: 0.1106\n",
      "INFO:smac.intensification.intensification.Intensifier:Updated estimated cost of incumbent on 1 runs: 0.1106\n",
      "INFO:smac.intensification.intensification.Intensifier:Updated estimated cost of incumbent on 1 runs: 0.1106\n",
      "INFO:smac.intensification.intensification.Intensifier:Updated estimated cost of incumbent on 1 runs: 0.1106\n",
      "INFO:smac.intensification.intensification.Intensifier:Updated estimated cost of incumbent on 1 runs: 0.1106\n",
      "INFO:smac.intensification.intensification.Intensifier:Updated estimated cost of incumbent on 1 runs: 0.1106\n",
      "INFO:smac.intensification.intensification.Intensifier:Updated estimated cost of incumbent on 1 runs: 0.1106\n",
      "INFO:smac.intensification.intensification.Intensifier:Updated estimated cost of incumbent on 1 runs: 0.1106\n",
      "INFO:smac.intensification.intensification.Intensifier:Updated estimated cost of incumbent on 1 runs: 0.1106\n",
      "INFO:smac.intensification.intensification.Intensifier:Updated estimated cost of incumbent on 1 runs: 0.1106\n",
      "INFO:smac.stats.stats.Stats:##########################################################\n",
      "INFO:smac.stats.stats.Stats:Statistics:\n",
      "INFO:smac.stats.stats.Stats:#Incumbent changed: 3\n",
      "INFO:smac.stats.stats.Stats:#Target algorithm runs: 109 / 109.0\n",
      "INFO:smac.stats.stats.Stats:#Configurations: 109\n",
      "INFO:smac.stats.stats.Stats:Used wallclock time: 140.44 / inf sec \n",
      "INFO:smac.stats.stats.Stats:Used target algorithm runtime: 64.18 / inf sec\n",
      "INFO:smac.stats.stats.Stats:##########################################################\n",
      "INFO:smac.facade.smac_hpo_facade.SMAC4HPO:Final Incumbent: Configuration:\n",
      "  h1, Value: 4\n",
      "  h2, Value: 1\n",
      "  learning_rate_init, Value: 0.07056711895035264\n",
      "  momentum, Value: 0.8550145475906625\n",
      "\n",
      "INFO:smac.facade.smac_hpo_facade.SMAC4HPO:Estimated cost of incumbent: 0.110606\n"
     ]
    },
    {
     "name": "stdout",
     "output_type": "stream",
     "text": [
      "Optimized Value: 0.89\n"
     ]
    }
   ],
   "source": [
    "# Utilizzando il Random Forest come modello surrogato e l'Expected Improvement come acquisition function\n",
    "\n",
    "print(\"Optimizing! Depending on your machine, this might take a few minutes.\")\n",
    "smac3 = SMAC4HPO(scenario = scenario,\n",
    "                tae_runner = nn_from_cfg,\n",
    "               initial_design = None,\n",
    "               initial_design_kwargs = {'max_config_fracs': 10/109},\n",
    "               initial_configurations = init_rf,\n",
    "               acquisition_function = EI)\n",
    "\n",
    "incumbent3 = smac3.optimize()\n",
    "\n",
    "inc_value3 = nn_from_cfg(incumbent3)\n",
    "\n",
    "print(\"Optimized Value: %.2f\" % (1-inc_value3))"
   ]
  },
  {
   "cell_type": "code",
   "execution_count": 84,
   "metadata": {},
   "outputs": [
    {
     "name": "stderr",
     "output_type": "stream",
     "text": [
      "INFO:smac.facade.smac_hpo_facade.SMAC4HPO:Optimizing a deterministic scenario for quality without a tuner timeout - will make SMAC deterministic and only evaluate one configuration per iteration!\n",
      "INFO:smac.initial_design.initial_design.InitialDesign:Running initial design for 10 configurations\n",
      "INFO:smac.facade.smac_hpo_facade.SMAC4HPO:<class 'smac.facade.smac_hpo_facade.SMAC4HPO'>\n"
     ]
    },
    {
     "name": "stdout",
     "output_type": "stream",
     "text": [
      "Optimizing! Depending on your machine, this might take a few minutes.\n"
     ]
    },
    {
     "name": "stderr",
     "output_type": "stream",
     "text": [
      "INFO:smac.intensification.intensification.Intensifier:Challenger (0.1206) is better than incumbent (0.1286) on 1 runs.\n",
      "INFO:smac.intensification.intensification.Intensifier:Changes in incumbent:\n",
      "INFO:smac.intensification.intensification.Intensifier:  h1 : 3 -> 2\n",
      "INFO:smac.intensification.intensification.Intensifier:  h2 : 3 -> 4\n",
      "INFO:smac.intensification.intensification.Intensifier:  learning_rate_init : 0.025774700189912465 -> 0.0244353187205082\n",
      "INFO:smac.intensification.intensification.Intensifier:  momentum : 0.8082485185430337 -> 0.10246778496447417\n",
      "INFO:smac.intensification.intensification.Intensifier:Challenger (0.1186) is better than incumbent (0.1206) on 1 runs.\n",
      "INFO:smac.intensification.intensification.Intensifier:Changes in incumbent:\n",
      "INFO:smac.intensification.intensification.Intensifier:  h1 : 2 -> 1\n",
      "INFO:smac.intensification.intensification.Intensifier:  h2 : 4 -> 2\n",
      "INFO:smac.intensification.intensification.Intensifier:  learning_rate_init : 0.0244353187205082 -> 0.016368487486914298\n",
      "INFO:smac.intensification.intensification.Intensifier:  momentum : 0.10246778496447417 -> 0.4679940130193705\n",
      "INFO:smac.intensification.intensification.Intensifier:Updated estimated cost of incumbent on 1 runs: 0.1186\n",
      "INFO:smac.intensification.intensification.Intensifier:Updated estimated cost of incumbent on 1 runs: 0.1186\n",
      "INFO:smac.intensification.intensification.Intensifier:Updated estimated cost of incumbent on 1 runs: 0.1186\n",
      "INFO:smac.intensification.intensification.Intensifier:Updated estimated cost of incumbent on 1 runs: 0.1186\n",
      "INFO:smac.intensification.intensification.Intensifier:Updated estimated cost of incumbent on 1 runs: 0.1186\n",
      "INFO:smac.intensification.intensification.Intensifier:Updated estimated cost of incumbent on 1 runs: 0.1186\n",
      "INFO:smac.intensification.intensification.Intensifier:Challenger (0.1097) is better than incumbent (0.1186) on 1 runs.\n",
      "INFO:smac.intensification.intensification.Intensifier:Changes in incumbent:\n",
      "INFO:smac.intensification.intensification.Intensifier:  h1 : 1 -> 4\n",
      "INFO:smac.intensification.intensification.Intensifier:  learning_rate_init : 0.016368487486914298 -> 0.0236381485187193\n",
      "INFO:smac.intensification.intensification.Intensifier:  momentum : 0.4679940130193705 -> 0.8588281785587\n",
      "INFO:smac.intensification.intensification.Intensifier:Updated estimated cost of incumbent on 1 runs: 0.1097\n",
      "INFO:smac.intensification.intensification.Intensifier:Updated estimated cost of incumbent on 1 runs: 0.1097\n",
      "INFO:smac.intensification.intensification.Intensifier:Challenger (0.1086) is better than incumbent (0.1097) on 1 runs.\n",
      "INFO:smac.intensification.intensification.Intensifier:Changes in incumbent:\n",
      "INFO:smac.intensification.intensification.Intensifier:  h2 : 2 -> 3\n",
      "INFO:smac.intensification.intensification.Intensifier:  learning_rate_init : 0.0236381485187193 -> 0.02390143749709322\n",
      "INFO:smac.intensification.intensification.Intensifier:  momentum : 0.8588281785587 -> 0.8944019740299007\n",
      "INFO:smac.intensification.intensification.Intensifier:Updated estimated cost of incumbent on 1 runs: 0.1086\n",
      "INFO:smac.intensification.intensification.Intensifier:Updated estimated cost of incumbent on 1 runs: 0.1086\n",
      "INFO:smac.intensification.intensification.Intensifier:Updated estimated cost of incumbent on 1 runs: 0.1086\n",
      "INFO:smac.intensification.intensification.Intensifier:Updated estimated cost of incumbent on 1 runs: 0.1086\n",
      "INFO:smac.intensification.intensification.Intensifier:Updated estimated cost of incumbent on 1 runs: 0.1086\n",
      "INFO:smac.intensification.intensification.Intensifier:Updated estimated cost of incumbent on 1 runs: 0.1086\n",
      "INFO:smac.intensification.intensification.Intensifier:Updated estimated cost of incumbent on 1 runs: 0.1086\n",
      "INFO:smac.intensification.intensification.Intensifier:Updated estimated cost of incumbent on 1 runs: 0.1086\n",
      "INFO:smac.intensification.intensification.Intensifier:Updated estimated cost of incumbent on 1 runs: 0.1086\n",
      "INFO:smac.intensification.intensification.Intensifier:Updated estimated cost of incumbent on 1 runs: 0.1086\n",
      "INFO:smac.intensification.intensification.Intensifier:Updated estimated cost of incumbent on 1 runs: 0.1086\n",
      "INFO:smac.intensification.intensification.Intensifier:Updated estimated cost of incumbent on 1 runs: 0.1086\n",
      "INFO:smac.intensification.intensification.Intensifier:Updated estimated cost of incumbent on 1 runs: 0.1086\n",
      "INFO:smac.intensification.intensification.Intensifier:Updated estimated cost of incumbent on 1 runs: 0.1086\n",
      "INFO:smac.intensification.intensification.Intensifier:Updated estimated cost of incumbent on 1 runs: 0.1086\n",
      "INFO:smac.intensification.intensification.Intensifier:Updated estimated cost of incumbent on 1 runs: 0.1086\n",
      "INFO:smac.intensification.intensification.Intensifier:Updated estimated cost of incumbent on 1 runs: 0.1086\n",
      "INFO:smac.intensification.intensification.Intensifier:Updated estimated cost of incumbent on 1 runs: 0.1086\n",
      "INFO:smac.intensification.intensification.Intensifier:Updated estimated cost of incumbent on 1 runs: 0.1086\n",
      "INFO:smac.intensification.intensification.Intensifier:Updated estimated cost of incumbent on 1 runs: 0.1086\n",
      "INFO:smac.intensification.intensification.Intensifier:Updated estimated cost of incumbent on 1 runs: 0.1086\n",
      "INFO:smac.intensification.intensification.Intensifier:Updated estimated cost of incumbent on 1 runs: 0.1086\n",
      "INFO:smac.intensification.intensification.Intensifier:Updated estimated cost of incumbent on 1 runs: 0.1086\n",
      "INFO:smac.intensification.intensification.Intensifier:Updated estimated cost of incumbent on 1 runs: 0.1086\n",
      "INFO:smac.intensification.intensification.Intensifier:Updated estimated cost of incumbent on 1 runs: 0.1086\n",
      "INFO:smac.intensification.intensification.Intensifier:Updated estimated cost of incumbent on 1 runs: 0.1086\n",
      "INFO:smac.intensification.intensification.Intensifier:Updated estimated cost of incumbent on 1 runs: 0.1086\n",
      "INFO:smac.intensification.intensification.Intensifier:Updated estimated cost of incumbent on 1 runs: 0.1086\n",
      "INFO:smac.intensification.intensification.Intensifier:Updated estimated cost of incumbent on 1 runs: 0.1086\n",
      "INFO:smac.intensification.intensification.Intensifier:Updated estimated cost of incumbent on 1 runs: 0.1086\n",
      "INFO:smac.intensification.intensification.Intensifier:Updated estimated cost of incumbent on 1 runs: 0.1086\n",
      "INFO:smac.intensification.intensification.Intensifier:Updated estimated cost of incumbent on 1 runs: 0.1086\n",
      "INFO:smac.intensification.intensification.Intensifier:Updated estimated cost of incumbent on 1 runs: 0.1086\n",
      "INFO:smac.intensification.intensification.Intensifier:Updated estimated cost of incumbent on 1 runs: 0.1086\n",
      "INFO:smac.intensification.intensification.Intensifier:Updated estimated cost of incumbent on 1 runs: 0.1086\n",
      "INFO:smac.intensification.intensification.Intensifier:Updated estimated cost of incumbent on 1 runs: 0.1086\n",
      "INFO:smac.intensification.intensification.Intensifier:Updated estimated cost of incumbent on 1 runs: 0.1086\n",
      "INFO:smac.intensification.intensification.Intensifier:Updated estimated cost of incumbent on 1 runs: 0.1086\n",
      "INFO:smac.intensification.intensification.Intensifier:Updated estimated cost of incumbent on 1 runs: 0.1086\n",
      "INFO:smac.intensification.intensification.Intensifier:Updated estimated cost of incumbent on 1 runs: 0.1086\n",
      "INFO:smac.intensification.intensification.Intensifier:Updated estimated cost of incumbent on 1 runs: 0.1086\n",
      "INFO:smac.intensification.intensification.Intensifier:Updated estimated cost of incumbent on 1 runs: 0.1086\n",
      "INFO:smac.intensification.intensification.Intensifier:Updated estimated cost of incumbent on 1 runs: 0.1086\n",
      "INFO:smac.intensification.intensification.Intensifier:Updated estimated cost of incumbent on 1 runs: 0.1086\n",
      "INFO:smac.intensification.intensification.Intensifier:Updated estimated cost of incumbent on 1 runs: 0.1086\n",
      "INFO:smac.intensification.intensification.Intensifier:Updated estimated cost of incumbent on 1 runs: 0.1086\n",
      "INFO:smac.intensification.intensification.Intensifier:Updated estimated cost of incumbent on 1 runs: 0.1086\n",
      "INFO:smac.intensification.intensification.Intensifier:Updated estimated cost of incumbent on 1 runs: 0.1086\n",
      "INFO:smac.intensification.intensification.Intensifier:Updated estimated cost of incumbent on 1 runs: 0.1086\n"
     ]
    },
    {
     "name": "stderr",
     "output_type": "stream",
     "text": [
      "INFO:smac.intensification.intensification.Intensifier:Updated estimated cost of incumbent on 1 runs: 0.1086\n",
      "INFO:smac.intensification.intensification.Intensifier:Updated estimated cost of incumbent on 1 runs: 0.1086\n",
      "INFO:smac.intensification.intensification.Intensifier:Updated estimated cost of incumbent on 1 runs: 0.1086\n",
      "INFO:smac.intensification.intensification.Intensifier:Updated estimated cost of incumbent on 1 runs: 0.1086\n",
      "INFO:smac.intensification.intensification.Intensifier:Updated estimated cost of incumbent on 1 runs: 0.1086\n",
      "INFO:smac.intensification.intensification.Intensifier:Updated estimated cost of incumbent on 1 runs: 0.1086\n",
      "INFO:smac.intensification.intensification.Intensifier:Updated estimated cost of incumbent on 1 runs: 0.1086\n",
      "INFO:smac.intensification.intensification.Intensifier:Updated estimated cost of incumbent on 1 runs: 0.1086\n",
      "INFO:smac.intensification.intensification.Intensifier:Updated estimated cost of incumbent on 1 runs: 0.1086\n",
      "INFO:smac.intensification.intensification.Intensifier:Updated estimated cost of incumbent on 1 runs: 0.1086\n",
      "INFO:smac.intensification.intensification.Intensifier:Updated estimated cost of incumbent on 1 runs: 0.1086\n",
      "INFO:smac.intensification.intensification.Intensifier:Updated estimated cost of incumbent on 1 runs: 0.1086\n",
      "INFO:smac.intensification.intensification.Intensifier:Updated estimated cost of incumbent on 1 runs: 0.1086\n",
      "INFO:smac.intensification.intensification.Intensifier:Updated estimated cost of incumbent on 1 runs: 0.1086\n",
      "INFO:smac.intensification.intensification.Intensifier:Updated estimated cost of incumbent on 1 runs: 0.1086\n",
      "INFO:smac.intensification.intensification.Intensifier:Updated estimated cost of incumbent on 1 runs: 0.1086\n",
      "INFO:smac.intensification.intensification.Intensifier:Updated estimated cost of incumbent on 1 runs: 0.1086\n",
      "INFO:smac.intensification.intensification.Intensifier:Updated estimated cost of incumbent on 1 runs: 0.1086\n",
      "INFO:smac.intensification.intensification.Intensifier:Updated estimated cost of incumbent on 1 runs: 0.1086\n",
      "INFO:smac.intensification.intensification.Intensifier:Updated estimated cost of incumbent on 1 runs: 0.1086\n",
      "INFO:smac.intensification.intensification.Intensifier:Updated estimated cost of incumbent on 1 runs: 0.1086\n",
      "INFO:smac.intensification.intensification.Intensifier:Updated estimated cost of incumbent on 1 runs: 0.1086\n",
      "INFO:smac.intensification.intensification.Intensifier:Updated estimated cost of incumbent on 1 runs: 0.1086\n",
      "INFO:smac.intensification.intensification.Intensifier:Updated estimated cost of incumbent on 1 runs: 0.1086\n",
      "INFO:smac.intensification.intensification.Intensifier:Updated estimated cost of incumbent on 1 runs: 0.1086\n",
      "INFO:smac.intensification.intensification.Intensifier:Updated estimated cost of incumbent on 1 runs: 0.1086\n",
      "INFO:smac.intensification.intensification.Intensifier:Updated estimated cost of incumbent on 1 runs: 0.1086\n",
      "INFO:smac.intensification.intensification.Intensifier:Updated estimated cost of incumbent on 1 runs: 0.1086\n",
      "INFO:smac.intensification.intensification.Intensifier:Updated estimated cost of incumbent on 1 runs: 0.1086\n",
      "INFO:smac.intensification.intensification.Intensifier:Updated estimated cost of incumbent on 1 runs: 0.1086\n",
      "INFO:smac.intensification.intensification.Intensifier:Updated estimated cost of incumbent on 1 runs: 0.1086\n",
      "INFO:smac.intensification.intensification.Intensifier:Updated estimated cost of incumbent on 1 runs: 0.1086\n",
      "INFO:smac.intensification.intensification.Intensifier:Updated estimated cost of incumbent on 1 runs: 0.1086\n",
      "INFO:smac.intensification.intensification.Intensifier:Updated estimated cost of incumbent on 1 runs: 0.1086\n",
      "INFO:smac.intensification.intensification.Intensifier:Updated estimated cost of incumbent on 1 runs: 0.1086\n",
      "INFO:smac.intensification.intensification.Intensifier:Updated estimated cost of incumbent on 1 runs: 0.1086\n",
      "INFO:smac.intensification.intensification.Intensifier:Updated estimated cost of incumbent on 1 runs: 0.1086\n",
      "INFO:smac.intensification.intensification.Intensifier:Updated estimated cost of incumbent on 1 runs: 0.1086\n",
      "INFO:smac.intensification.intensification.Intensifier:Updated estimated cost of incumbent on 1 runs: 0.1086\n",
      "INFO:smac.intensification.intensification.Intensifier:Updated estimated cost of incumbent on 1 runs: 0.1086\n",
      "INFO:smac.intensification.intensification.Intensifier:Updated estimated cost of incumbent on 1 runs: 0.1086\n",
      "INFO:smac.intensification.intensification.Intensifier:Updated estimated cost of incumbent on 1 runs: 0.1086\n",
      "INFO:smac.intensification.intensification.Intensifier:Updated estimated cost of incumbent on 1 runs: 0.1086\n",
      "INFO:smac.stats.stats.Stats:##########################################################\n",
      "INFO:smac.stats.stats.Stats:Statistics:\n",
      "INFO:smac.stats.stats.Stats:#Incumbent changed: 4\n",
      "INFO:smac.stats.stats.Stats:#Target algorithm runs: 109 / 109.0\n",
      "INFO:smac.stats.stats.Stats:#Configurations: 109\n",
      "INFO:smac.stats.stats.Stats:Used wallclock time: 154.06 / inf sec \n",
      "INFO:smac.stats.stats.Stats:Used target algorithm runtime: 70.92 / inf sec\n",
      "INFO:smac.stats.stats.Stats:##########################################################\n",
      "INFO:smac.facade.smac_hpo_facade.SMAC4HPO:Final Incumbent: Configuration:\n",
      "  h1, Value: 4\n",
      "  h2, Value: 3\n",
      "  learning_rate_init, Value: 0.02390143749709322\n",
      "  momentum, Value: 0.8944019740299007\n",
      "\n",
      "INFO:smac.facade.smac_hpo_facade.SMAC4HPO:Estimated cost of incumbent: 0.108586\n"
     ]
    },
    {
     "name": "stdout",
     "output_type": "stream",
     "text": [
      "Optimized Value: 0.89\n"
     ]
    }
   ],
   "source": [
    "# Utilizzando il Random Forest come modello surrogato e lower confidence bound come acquisition function\n",
    "\n",
    "print(\"Optimizing! Depending on your machine, this might take a few minutes.\")\n",
    "smac4 = SMAC4HPO(scenario = scenario,\n",
    "                tae_runner = nn_from_cfg,\n",
    "               initial_design = None,\n",
    "               initial_design_kwargs = {'max_config_fracs': 10/109},\n",
    "               initial_configurations = init_rf,\n",
    "               acquisition_function = LCB)\n",
    "\n",
    "incumbent4 = smac4.optimize()\n",
    "\n",
    "inc_value4 = nn_from_cfg(incumbent4)\n",
    "\n",
    "print(\"Optimized Value: %.2f\" % (1-inc_value4))"
   ]
  },
  {
   "cell_type": "code",
   "execution_count": 85,
   "metadata": {},
   "outputs": [],
   "source": [
    "maximum3 = 0.00000001\n",
    "history_of_maximums3 = []\n",
    "maximum4 = 0.00000001\n",
    "history_of_maximums4 = []\n",
    "\n",
    "history3 = 1-smac3.get_X_y()[1]\n",
    "\n",
    "for i in range(len(history3)):\n",
    "    if history3[i] > maximum3:\n",
    "        maximum3 = history3[i]\n",
    "        history_of_maximums3.append(maximum3)\n",
    "    else:\n",
    "        history_of_maximums3.append(maximum3)  \n",
    "\n",
    "      \n",
    "        \n",
    "history4 = 1-smac4.get_X_y()[1]\n",
    "\n",
    "for i in range(len(history4)):\n",
    "    if history4[i] > maximum4:\n",
    "        maximum4 = history4[i]\n",
    "        history_of_maximums4.append(maximum4)\n",
    "    else:\n",
    "        history_of_maximums4.append(maximum4)"
   ]
  },
  {
   "cell_type": "code",
   "execution_count": 86,
   "metadata": {
    "scrolled": true
   },
   "outputs": [
    {
     "data": {
      "text/plain": [
       "Text(0, 0.5, 'Accuracy')"
      ]
     },
     "execution_count": 86,
     "metadata": {},
     "output_type": "execute_result"
    },
    {
     "data": {
      "image/png": "[encoded data removed]",
      "text/plain": [
       "<Figure size 1080x360 with 1 Axes>"
      ]
     },
     "metadata": {
      "needs_background": "light"
     },
     "output_type": "display_data"
    }
   ],
   "source": [
    "plt.figure(figsize = (15,5))\n",
    "plt.plot(history_of_maximums3[9:], marker = \"o\")\n",
    "plt.plot(history_of_maximums4[9:], marker = \"o\")\n",
    "plt.legend([\"EI\", \"LCB\"])\n",
    "plt.xlabel(\"Iterations\")\n",
    "plt.ylabel(\"Accuracy\")"
   ]
  }
 ],
 "metadata": {
  "kernelspec": {
   "display_name": "Python 3",
   "language": "python",
   "name": "python3"
  },
  "language_info": {
   "codemirror_mode": {
    "name": "ipython",
    "version": 3
   },
   "file_extension": ".py",
   "mimetype": "text/x-python",
   "name": "python",
   "nbconvert_exporter": "python",
   "pygments_lexer": "ipython3",
   "version": "3.7.5"
  }
 },
 "nbformat": 4,
 "nbformat_minor": 2
}
